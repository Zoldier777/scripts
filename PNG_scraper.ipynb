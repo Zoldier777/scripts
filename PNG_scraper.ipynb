{
 "cells": [
  {
   "cell_type": "code",
   "execution_count": 1,
   "id": "488d24ea",
   "metadata": {},
   "outputs": [],
   "source": [
    "from bs4 import BeautifulSoup #parser \n",
    "import requests #for working with http objects"
   ]
  },
  {
   "cell_type": "code",
   "execution_count": 2,
   "id": "c8a1e27b",
   "metadata": {},
   "outputs": [],
   "source": [
    "sitemap =  'https://www.pngmart.com/sitemap.xml'"
   ]
  },
  {
   "cell_type": "code",
   "execution_count": 3,
   "id": "e4727872",
   "metadata": {},
   "outputs": [],
   "source": [
    "response = requests.get(sitemap)"
   ]
  },
  {
   "cell_type": "code",
   "execution_count": 4,
   "id": "2a844d96",
   "metadata": {},
   "outputs": [],
   "source": [
    "xml = response.text"
   ]
  },
  {
   "cell_type": "code",
   "execution_count": 9,
   "id": "620bf6f7",
   "metadata": {},
   "outputs": [],
   "source": [
    "soup = BeautifulSoup(xml,'xml')"
   ]
  },
  {
   "cell_type": "code",
   "execution_count": 12,
   "id": "c05b59a7",
   "metadata": {},
   "outputs": [
    {
     "name": "stdout",
     "output_type": "stream",
     "text": [
      "[]\n"
     ]
    }
   ],
   "source": [
    "site_pages = []\n",
    "for loc in soup.find_all('loc'): #type()\n",
    "    if 'post-sitemap' in loc.text:\n",
    "        site_pages.append(loc.text)"
   ]
  },
  {
   "cell_type": "code",
   "execution_count": 7,
   "id": "1e02282e",
   "metadata": {},
   "outputs": [
    {
     "ename": "IndexError",
     "evalue": "list index out of range",
     "output_type": "error",
     "traceback": [
      "\u001b[0;31m---------------------------------------------------------------------------\u001b[0m",
      "\u001b[0;31mIndexError\u001b[0m                                Traceback (most recent call last)",
      "\u001b[0;32m/tmp/ipykernel_17783/3156025764.py\u001b[0m in \u001b[0;36m<module>\u001b[0;34m\u001b[0m\n\u001b[1;32m      1\u001b[0m \u001b[0mimg_urls\u001b[0m \u001b[0;34m=\u001b[0m \u001b[0;34m[\u001b[0m\u001b[0;34m]\u001b[0m\u001b[0;34m\u001b[0m\u001b[0;34m\u001b[0m\u001b[0m\n\u001b[1;32m      2\u001b[0m \u001b[0;32mfor\u001b[0m \u001b[0mi\u001b[0m \u001b[0;32min\u001b[0m \u001b[0mrange\u001b[0m\u001b[0;34m(\u001b[0m\u001b[0;36m0\u001b[0m\u001b[0;34m,\u001b[0m\u001b[0;36m1\u001b[0m\u001b[0;34m)\u001b[0m\u001b[0;34m:\u001b[0m\u001b[0;34m\u001b[0m\u001b[0;34m\u001b[0m\u001b[0m\n\u001b[0;32m----> 3\u001b[0;31m     \u001b[0mresponse\u001b[0m \u001b[0;34m=\u001b[0m \u001b[0mrequests\u001b[0m\u001b[0;34m.\u001b[0m\u001b[0mget\u001b[0m\u001b[0;34m(\u001b[0m\u001b[0msite_pages\u001b[0m\u001b[0;34m[\u001b[0m\u001b[0mi\u001b[0m\u001b[0;34m]\u001b[0m\u001b[0;34m)\u001b[0m\u001b[0;34m\u001b[0m\u001b[0;34m\u001b[0m\u001b[0m\n\u001b[0m\u001b[1;32m      4\u001b[0m     \u001b[0msoup2\u001b[0m \u001b[0;34m=\u001b[0m \u001b[0mBeautifulSoup\u001b[0m\u001b[0;34m(\u001b[0m\u001b[0mresponse\u001b[0m\u001b[0;34m.\u001b[0m\u001b[0mtext\u001b[0m \u001b[0;34m,\u001b[0m\u001b[0;34m'xml'\u001b[0m\u001b[0;34m)\u001b[0m\u001b[0;34m\u001b[0m\u001b[0;34m\u001b[0m\u001b[0m\n\u001b[1;32m      5\u001b[0m     \u001b[0;32mfor\u001b[0m \u001b[0mloc\u001b[0m \u001b[0;32min\u001b[0m \u001b[0msoup2\u001b[0m\u001b[0;34m.\u001b[0m\u001b[0mfind_all\u001b[0m\u001b[0;34m(\u001b[0m\u001b[0;34m'loc'\u001b[0m\u001b[0;34m)\u001b[0m\u001b[0;34m:\u001b[0m\u001b[0;34m\u001b[0m\u001b[0;34m\u001b[0m\u001b[0m\n",
      "\u001b[0;31mIndexError\u001b[0m: list index out of range"
     ]
    }
   ],
   "source": [
    "img_urls = []\n",
    "for i in range(0,1):\n",
    "    response = requests.get(site_pages[i])\n",
    "    soup2 = BeautifulSoup(response.text ,'xml')\n",
    "    for loc in soup2.find_all('loc'):\n",
    "        img_urls.append(loc.text)"
   ]
  },
  {
   "cell_type": "code",
   "execution_count": null,
   "id": "5dcd0e6d",
   "metadata": {},
   "outputs": [
    {
     "name": "stdout",
     "output_type": "stream",
     "text": [
      "417000\n"
     ]
    }
   ],
   "source": [
    "t = len(site_pages) * len(img_urls)\n",
    "print(t)"
   ]
  },
  {
   "cell_type": "code",
   "execution_count": null,
   "id": "ca5b1080",
   "metadata": {},
   "outputs": [
    {
     "name": "stdout",
     "output_type": "stream",
     "text": [
      "https://www.pngmart.com/image/618203\n",
      "https://www.pngmart.com/image/618207\n",
      "https://www.pngmart.com/image/618205\n",
      "https://www.pngmart.com/image/618213\n",
      "https://www.pngmart.com/image/618211\n"
     ]
    }
   ],
   "source": [
    "for img_url in img_urls[0:5]:\n",
    "    print(img_url)\n",
    "    response   = requests.get(img_url)\n",
    "    soup       = BeautifulSoup(response.text,'html.parser')\n",
    "    png_url    = soup.find('a',{'class' : 'download'})['href']\n",
    "    image      = requests.get(png_url)\n",
    "    update_url = img_url.split('/')[-1] + \"-\" + png_url.split('/')[-1]\n",
    "    \n",
    "    with open(update_url, 'wb') as file:\n",
    "        file.write(image.content)"
   ]
  },
  {
   "cell_type": "code",
   "execution_count": null,
   "id": "cc0aad54",
   "metadata": {},
   "outputs": [],
   "source": []
  },
  {
   "cell_type": "code",
   "execution_count": null,
   "id": "ecd31699",
   "metadata": {},
   "outputs": [],
   "source": []
  },
  {
   "cell_type": "code",
   "execution_count": null,
   "id": "990ab791",
   "metadata": {
    "scrolled": false
   },
   "outputs": [],
   "source": []
  },
  {
   "cell_type": "code",
   "execution_count": null,
   "id": "6ea48c02",
   "metadata": {},
   "outputs": [],
   "source": []
  }
 ],
 "metadata": {
  "kernelspec": {
   "display_name": "Python 3",
   "language": "python",
   "name": "python3"
  },
  "language_info": {
   "codemirror_mode": {
    "name": "ipython",
    "version": 3
   },
   "file_extension": ".py",
   "mimetype": "text/x-python",
   "name": "python",
   "nbconvert_exporter": "python",
   "pygments_lexer": "ipython3",
   "version": "3.9.7"
  }
 },
 "nbformat": 4,
 "nbformat_minor": 5
}
