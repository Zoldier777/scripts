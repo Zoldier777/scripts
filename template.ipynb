{
 "cells": [
  {
   "cell_type": "markdown",
   "id": "dcd9cef3",
   "metadata": {},
   "source": [
    "# 1. Imports\n",
    "\n",
    "\n"
   ]
  },
  {
   "cell_type": "code",
   "execution_count": null,
   "id": "59c8adab",
   "metadata": {},
   "outputs": [],
   "source": []
  },
  {
   "cell_type": "markdown",
   "id": "c55970f6",
   "metadata": {},
   "source": [
    "# 2. Requests & cURL\n",
    "\n",
    "\n"
   ]
  },
  {
   "cell_type": "code",
   "execution_count": null,
   "id": "7379bd53",
   "metadata": {},
   "outputs": [],
   "source": []
  },
  {
   "cell_type": "markdown",
   "id": "b98e3773",
   "metadata": {},
   "source": [
    "# 3. Check status code"
   ]
  },
  {
   "cell_type": "code",
   "execution_count": null,
   "id": "d6de6184",
   "metadata": {},
   "outputs": [],
   "source": []
  },
  {
   "cell_type": "markdown",
   "id": "537aca17",
   "metadata": {},
   "source": [
    "# 4. Parse response as Json / Html / XML\n",
    "\n",
    "BS is recommended for html and xml. parser for xml needs to be installed."
   ]
  },
  {
   "cell_type": "code",
   "execution_count": null,
   "id": "6ac60616",
   "metadata": {},
   "outputs": [],
   "source": []
  },
  {
   "cell_type": "markdown",
   "id": "4e384209",
   "metadata": {},
   "source": [
    "# 5. Check for possible keys"
   ]
  },
  {
   "cell_type": "code",
   "execution_count": null,
   "id": "cdcc68f3",
   "metadata": {},
   "outputs": [],
   "source": []
  },
  {
   "cell_type": "markdown",
   "id": "86c4362d",
   "metadata": {},
   "source": [
    "# 6. Select data"
   ]
  },
  {
   "cell_type": "code",
   "execution_count": null,
   "id": "6fc3b388",
   "metadata": {},
   "outputs": [],
   "source": []
  },
  {
   "cell_type": "markdown",
   "id": "33cc2e06",
   "metadata": {},
   "source": [
    "# 7. Iterate over data in response - dict for each \"row\"\n",
    "\n",
    "1. Data will be repressented horizontally inside a dict where a key will represent a single datapoint, which will in turn be appended to our masterlist. \n",
    "2. Other option here is to have seperate lists for each category of data store inside a dict. Which will be more of a vertical repressentation of the data. "
   ]
  },
  {
   "cell_type": "code",
   "execution_count": null,
   "id": "eadb6a9d",
   "metadata": {},
   "outputs": [],
   "source": []
  },
  {
   "cell_type": "markdown",
   "id": "007f7622",
   "metadata": {},
   "source": [
    "# 8.  Pandas Dataframe"
   ]
  },
  {
   "cell_type": "code",
   "execution_count": null,
   "id": "e4755269",
   "metadata": {},
   "outputs": [],
   "source": []
  },
  {
   "cell_type": "markdown",
   "id": "170d844c",
   "metadata": {},
   "source": [
    "# 9. Pagination"
   ]
  },
  {
   "cell_type": "code",
   "execution_count": null,
   "id": "c494ab6a",
   "metadata": {},
   "outputs": [],
   "source": []
  },
  {
   "cell_type": "markdown",
   "id": "948f7fa8",
   "metadata": {},
   "source": [
    "# 10. Convert to Excel file"
   ]
  },
  {
   "cell_type": "code",
   "execution_count": null,
   "id": "851b2a1e",
   "metadata": {},
   "outputs": [],
   "source": []
  }
 ],
 "metadata": {
  "kernelspec": {
   "display_name": "Python 3",
   "language": "python",
   "name": "python3"
  },
  "language_info": {
   "codemirror_mode": {
    "name": "ipython",
    "version": 3
   },
   "file_extension": ".py",
   "mimetype": "text/x-python",
   "name": "python",
   "nbconvert_exporter": "python",
   "pygments_lexer": "ipython3",
   "version": "3.6.13"
  }
 },
 "nbformat": 4,
 "nbformat_minor": 5
}
